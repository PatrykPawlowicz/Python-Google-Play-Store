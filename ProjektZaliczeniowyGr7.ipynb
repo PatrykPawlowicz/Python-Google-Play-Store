{
 "metadata": {
  "language_info": {
   "codemirror_mode": {
    "name": "ipython",
    "version": 3
   },
   "file_extension": ".py",
   "mimetype": "text/x-python",
   "name": "python",
   "nbconvert_exporter": "python",
   "pygments_lexer": "ipython3",
   "version": "3.7.9-final"
  },
  "orig_nbformat": 2,
  "kernelspec": {
   "name": "Python 3.7.9 64-bit ('myenv': conda)",
   "display_name": "Python 3.7.9 64-bit ('myenv': conda)",
   "metadata": {
    "interpreter": {
     "hash": "956dba03230f2b26125f96fedd9e16c7eeafc9bec28b56a3c926dbd182373e61"
    }
   }
  }
 },
 "nbformat": 4,
 "nbformat_minor": 2,
 "cells": [
  {
   "cell_type": "code",
   "execution_count": 1,
   "metadata": {},
   "outputs": [],
   "source": [
    "# Project create by: Justyna Gapys, Aleksandra Okrój, Patryk Pawłowicz (gr. S22-32)"
   ]
  },
  {
   "cell_type": "code",
   "execution_count": 2,
   "metadata": {},
   "outputs": [],
   "source": [
    "import numpy as np  # linear algebra\n",
    "import pandas as pd # data processing, CSV file I/O (e.g. pd.read_csv)\n",
    "import os           \n",
    "import fnmatch       \n",
    "import sys\n",
    "from datetime import datetime\n",
    "import csv\n",
    "import matplotlib.pyplot as plt"
   ]
  },
  {
   "cell_type": "code",
   "execution_count": 16,
   "metadata": {},
   "outputs": [
    {
     "output_type": "stream",
     "name": "stdout",
     "text": [
      "             App        Category  Rating Reviews Size     Installs  Type  \\\n",
      "1176  McDonald's  FOOD_AND_DRINK     3.6  145323  42M  10,000,000+  Free   \n",
      "8727  McDonald's  FOOD_AND_DRINK     3.6  145646  42M  10,000,000+  Free   \n",
      "\n",
      "     Price Content Rating        Genres   Last Updated Current Ver Android Ver  \n",
      "1176     0       Everyone  Food & Drink  July 31, 2018      5.15.0  4.4 and up  \n",
      "8727     0       Everyone  Food & Drink  July 31, 2018      5.15.0  4.4 and up  \n",
      " \n",
      "\n",
      "All users:\n",
      "justyna_gapys 11/05/2020, 11:15:41\n",
      "ola_okroj 11/05/2020, 11:09:25\n",
      "ola_ola 11/05/2020, 09:10:50\n",
      "Total number of users: 3\n",
      "And here is a chart for entire dataset of RATING  \n",
      "AxesSubplot(0.125,0.125;0.775x0.755) \n",
      "\n",
      "Okay, your ascending statistic is done!\n",
      "\n"
     ]
    },
    {
     "output_type": "display_data",
     "data": {
      "text/plain": "<Figure size 432x288 with 1 Axes>",
      "image/svg+xml": "<?xml version=\"1.0\" encoding=\"utf-8\" standalone=\"no\"?>\r\n<!DOCTYPE svg PUBLIC \"-//W3C//DTD SVG 1.1//EN\"\r\n  \"http://www.w3.org/Graphics/SVG/1.1/DTD/svg11.dtd\">\r\n<!-- Created with matplotlib (https://matplotlib.org/) -->\r\n<svg height=\"248.518125pt\" version=\"1.1\" viewBox=\"0 0 381.65 248.518125\" width=\"381.65pt\" xmlns=\"http://www.w3.org/2000/svg\" xmlns:xlink=\"http://www.w3.org/1999/xlink\">\r\n <metadata>\r\n  <rdf:RDF xmlns:cc=\"http://creativecommons.org/ns#\" xmlns:dc=\"http://purl.org/dc/elements/1.1/\" xmlns:rdf=\"http://www.w3.org/1999/02/22-rdf-syntax-ns#\">\r\n   <cc:Work>\r\n    <dc:type rdf:resource=\"http://purl.org/dc/dcmitype/StillImage\"/>\r\n    <dc:date>2020-11-05T11:16:31.442115</dc:date>\r\n    <dc:format>image/svg+xml</dc:format>\r\n    <dc:creator>\r\n     <cc:Agent>\r\n      <dc:title>Matplotlib v3.3.2, https://matplotlib.org/</dc:title>\r\n     </cc:Agent>\r\n    </dc:creator>\r\n   </cc:Work>\r\n  </rdf:RDF>\r\n </metadata>\r\n <defs>\r\n  <style type=\"text/css\">*{stroke-linecap:butt;stroke-linejoin:round;}</style>\r\n </defs>\r\n <g id=\"figure_1\">\r\n  <g id=\"patch_1\">\r\n   <path d=\"M -0 248.518125 \r\nL 381.65 248.518125 \r\nL 381.65 0 \r\nL -0 0 \r\nz\r\n\" style=\"fill:none;\"/>\r\n  </g>\r\n  <g id=\"axes_1\">\r\n   <g id=\"patch_2\">\r\n    <path d=\"M 39.65 224.64 \r\nL 374.45 224.64 \r\nL 374.45 7.2 \r\nL 39.65 7.2 \r\nz\r\n\" style=\"fill:#ffffff;\"/>\r\n   </g>\r\n   <g id=\"patch_3\">\r\n    <path clip-path=\"url(#p0615f3682c)\" d=\"M 54.868182 224.64 \r\nL 85.304545 224.64 \r\nL 85.304545 218.926503 \r\nL 54.868182 218.926503 \r\nz\r\n\" style=\"fill:#1f77b4;\"/>\r\n   </g>\r\n   <g id=\"patch_4\">\r\n    <path clip-path=\"url(#p0615f3682c)\" d=\"M 85.304545 224.64 \r\nL 115.740909 224.64 \r\nL 115.740909 17.554286 \r\nL 85.304545 17.554286 \r\nz\r\n\" style=\"fill:#1f77b4;\"/>\r\n   </g>\r\n   <g id=\"patch_5\">\r\n    <path clip-path=\"url(#p0615f3682c)\" d=\"M 115.740909 224.64 \r\nL 146.177273 224.64 \r\nL 146.177273 169.876127 \r\nL 115.740909 169.876127 \r\nz\r\n\" style=\"fill:#1f77b4;\"/>\r\n   </g>\r\n   <g id=\"patch_6\">\r\n    <path clip-path=\"url(#p0615f3682c)\" d=\"M 146.177273 224.64 \r\nL 176.613636 224.64 \r\nL 176.613636 224.64 \r\nL 146.177273 224.64 \r\nz\r\n\" style=\"fill:#1f77b4;\"/>\r\n   </g>\r\n   <g id=\"patch_7\">\r\n    <path clip-path=\"url(#p0615f3682c)\" d=\"M 176.613636 224.64 \r\nL 207.05 224.64 \r\nL 207.05 224.64 \r\nL 176.613636 224.64 \r\nz\r\n\" style=\"fill:#1f77b4;\"/>\r\n   </g>\r\n   <g id=\"patch_8\">\r\n    <path clip-path=\"url(#p0615f3682c)\" d=\"M 207.05 224.64 \r\nL 237.486364 224.64 \r\nL 237.486364 224.64 \r\nL 207.05 224.64 \r\nz\r\n\" style=\"fill:#1f77b4;\"/>\r\n   </g>\r\n   <g id=\"patch_9\">\r\n    <path clip-path=\"url(#p0615f3682c)\" d=\"M 237.486364 224.64 \r\nL 267.922727 224.64 \r\nL 267.922727 224.64 \r\nL 237.486364 224.64 \r\nz\r\n\" style=\"fill:#1f77b4;\"/>\r\n   </g>\r\n   <g id=\"patch_10\">\r\n    <path clip-path=\"url(#p0615f3682c)\" d=\"M 267.922727 224.64 \r\nL 298.359091 224.64 \r\nL 298.359091 224.64 \r\nL 267.922727 224.64 \r\nz\r\n\" style=\"fill:#1f77b4;\"/>\r\n   </g>\r\n   <g id=\"patch_11\">\r\n    <path clip-path=\"url(#p0615f3682c)\" d=\"M 298.359091 224.64 \r\nL 328.795455 224.64 \r\nL 328.795455 224.64 \r\nL 298.359091 224.64 \r\nz\r\n\" style=\"fill:#1f77b4;\"/>\r\n   </g>\r\n   <g id=\"patch_12\">\r\n    <path clip-path=\"url(#p0615f3682c)\" d=\"M 328.795455 224.64 \r\nL 359.231818 224.64 \r\nL 359.231818 224.611433 \r\nL 328.795455 224.611433 \r\nz\r\n\" style=\"fill:#1f77b4;\"/>\r\n   </g>\r\n   <g id=\"matplotlib.axis_1\">\r\n    <g id=\"xtick_1\">\r\n     <g id=\"line2d_1\">\r\n      <path clip-path=\"url(#p0615f3682c)\" d=\"M 80.231818 224.64 \r\nL 80.231818 7.2 \r\n\" style=\"fill:none;stroke:#b0b0b0;stroke-linecap:square;stroke-width:0.8;\"/>\r\n     </g>\r\n     <g id=\"line2d_2\">\r\n      <defs>\r\n       <path d=\"M 0 0 \r\nL 0 3.5 \r\n\" id=\"m85fd70c595\" style=\"stroke:#000000;stroke-width:0.8;\"/>\r\n      </defs>\r\n      <g>\r\n       <use style=\"stroke:#000000;stroke-width:0.8;\" x=\"80.231818\" xlink:href=\"#m85fd70c595\" y=\"224.64\"/>\r\n      </g>\r\n     </g>\r\n     <g id=\"text_1\">\r\n      <!-- 2.5 -->\r\n      <g transform=\"translate(72.280256 239.238437)scale(0.1 -0.1)\">\r\n       <defs>\r\n        <path d=\"M 19.1875 8.296875 \r\nL 53.609375 8.296875 \r\nL 53.609375 0 \r\nL 7.328125 0 \r\nL 7.328125 8.296875 \r\nQ 12.9375 14.109375 22.625 23.890625 \r\nQ 32.328125 33.6875 34.8125 36.53125 \r\nQ 39.546875 41.84375 41.421875 45.53125 \r\nQ 43.3125 49.21875 43.3125 52.78125 \r\nQ 43.3125 58.59375 39.234375 62.25 \r\nQ 35.15625 65.921875 28.609375 65.921875 \r\nQ 23.96875 65.921875 18.8125 64.3125 \r\nQ 13.671875 62.703125 7.8125 59.421875 \r\nL 7.8125 69.390625 \r\nQ 13.765625 71.78125 18.9375 73 \r\nQ 24.125 74.21875 28.421875 74.21875 \r\nQ 39.75 74.21875 46.484375 68.546875 \r\nQ 53.21875 62.890625 53.21875 53.421875 \r\nQ 53.21875 48.921875 51.53125 44.890625 \r\nQ 49.859375 40.875 45.40625 35.40625 \r\nQ 44.1875 33.984375 37.640625 27.21875 \r\nQ 31.109375 20.453125 19.1875 8.296875 \r\nz\r\n\" id=\"DejaVuSans-50\"/>\r\n        <path d=\"M 10.6875 12.40625 \r\nL 21 12.40625 \r\nL 21 0 \r\nL 10.6875 0 \r\nz\r\n\" id=\"DejaVuSans-46\"/>\r\n        <path d=\"M 10.796875 72.90625 \r\nL 49.515625 72.90625 \r\nL 49.515625 64.59375 \r\nL 19.828125 64.59375 \r\nL 19.828125 46.734375 \r\nQ 21.96875 47.46875 24.109375 47.828125 \r\nQ 26.265625 48.1875 28.421875 48.1875 \r\nQ 40.625 48.1875 47.75 41.5 \r\nQ 54.890625 34.8125 54.890625 23.390625 \r\nQ 54.890625 11.625 47.5625 5.09375 \r\nQ 40.234375 -1.421875 26.90625 -1.421875 \r\nQ 22.3125 -1.421875 17.546875 -0.640625 \r\nQ 12.796875 0.140625 7.71875 1.703125 \r\nL 7.71875 11.625 \r\nQ 12.109375 9.234375 16.796875 8.0625 \r\nQ 21.484375 6.890625 26.703125 6.890625 \r\nQ 35.15625 6.890625 40.078125 11.328125 \r\nQ 45.015625 15.765625 45.015625 23.390625 \r\nQ 45.015625 31 40.078125 35.4375 \r\nQ 35.15625 39.890625 26.703125 39.890625 \r\nQ 22.75 39.890625 18.8125 39.015625 \r\nQ 14.890625 38.140625 10.796875 36.28125 \r\nz\r\n\" id=\"DejaVuSans-53\"/>\r\n       </defs>\r\n       <use xlink:href=\"#DejaVuSans-50\"/>\r\n       <use x=\"63.623047\" xlink:href=\"#DejaVuSans-46\"/>\r\n       <use x=\"95.410156\" xlink:href=\"#DejaVuSans-53\"/>\r\n      </g>\r\n     </g>\r\n    </g>\r\n    <g id=\"xtick_2\">\r\n     <g id=\"line2d_3\">\r\n      <path clip-path=\"url(#p0615f3682c)\" d=\"M 122.504545 224.64 \r\nL 122.504545 7.2 \r\n\" style=\"fill:none;stroke:#b0b0b0;stroke-linecap:square;stroke-width:0.8;\"/>\r\n     </g>\r\n     <g id=\"line2d_4\">\r\n      <g>\r\n       <use style=\"stroke:#000000;stroke-width:0.8;\" x=\"122.504545\" xlink:href=\"#m85fd70c595\" y=\"224.64\"/>\r\n      </g>\r\n     </g>\r\n     <g id=\"text_2\">\r\n      <!-- 5.0 -->\r\n      <g transform=\"translate(114.552983 239.238437)scale(0.1 -0.1)\">\r\n       <defs>\r\n        <path d=\"M 31.78125 66.40625 \r\nQ 24.171875 66.40625 20.328125 58.90625 \r\nQ 16.5 51.421875 16.5 36.375 \r\nQ 16.5 21.390625 20.328125 13.890625 \r\nQ 24.171875 6.390625 31.78125 6.390625 \r\nQ 39.453125 6.390625 43.28125 13.890625 \r\nQ 47.125 21.390625 47.125 36.375 \r\nQ 47.125 51.421875 43.28125 58.90625 \r\nQ 39.453125 66.40625 31.78125 66.40625 \r\nz\r\nM 31.78125 74.21875 \r\nQ 44.046875 74.21875 50.515625 64.515625 \r\nQ 56.984375 54.828125 56.984375 36.375 \r\nQ 56.984375 17.96875 50.515625 8.265625 \r\nQ 44.046875 -1.421875 31.78125 -1.421875 \r\nQ 19.53125 -1.421875 13.0625 8.265625 \r\nQ 6.59375 17.96875 6.59375 36.375 \r\nQ 6.59375 54.828125 13.0625 64.515625 \r\nQ 19.53125 74.21875 31.78125 74.21875 \r\nz\r\n\" id=\"DejaVuSans-48\"/>\r\n       </defs>\r\n       <use xlink:href=\"#DejaVuSans-53\"/>\r\n       <use x=\"63.623047\" xlink:href=\"#DejaVuSans-46\"/>\r\n       <use x=\"95.410156\" xlink:href=\"#DejaVuSans-48\"/>\r\n      </g>\r\n     </g>\r\n    </g>\r\n    <g id=\"xtick_3\">\r\n     <g id=\"line2d_5\">\r\n      <path clip-path=\"url(#p0615f3682c)\" d=\"M 164.777273 224.64 \r\nL 164.777273 7.2 \r\n\" style=\"fill:none;stroke:#b0b0b0;stroke-linecap:square;stroke-width:0.8;\"/>\r\n     </g>\r\n     <g id=\"line2d_6\">\r\n      <g>\r\n       <use style=\"stroke:#000000;stroke-width:0.8;\" x=\"164.777273\" xlink:href=\"#m85fd70c595\" y=\"224.64\"/>\r\n      </g>\r\n     </g>\r\n     <g id=\"text_3\">\r\n      <!-- 7.5 -->\r\n      <g transform=\"translate(156.82571 239.238437)scale(0.1 -0.1)\">\r\n       <defs>\r\n        <path d=\"M 8.203125 72.90625 \r\nL 55.078125 72.90625 \r\nL 55.078125 68.703125 \r\nL 28.609375 0 \r\nL 18.3125 0 \r\nL 43.21875 64.59375 \r\nL 8.203125 64.59375 \r\nz\r\n\" id=\"DejaVuSans-55\"/>\r\n       </defs>\r\n       <use xlink:href=\"#DejaVuSans-55\"/>\r\n       <use x=\"63.623047\" xlink:href=\"#DejaVuSans-46\"/>\r\n       <use x=\"95.410156\" xlink:href=\"#DejaVuSans-53\"/>\r\n      </g>\r\n     </g>\r\n    </g>\r\n    <g id=\"xtick_4\">\r\n     <g id=\"line2d_7\">\r\n      <path clip-path=\"url(#p0615f3682c)\" d=\"M 207.05 224.64 \r\nL 207.05 7.2 \r\n\" style=\"fill:none;stroke:#b0b0b0;stroke-linecap:square;stroke-width:0.8;\"/>\r\n     </g>\r\n     <g id=\"line2d_8\">\r\n      <g>\r\n       <use style=\"stroke:#000000;stroke-width:0.8;\" x=\"207.05\" xlink:href=\"#m85fd70c595\" y=\"224.64\"/>\r\n      </g>\r\n     </g>\r\n     <g id=\"text_4\">\r\n      <!-- 10.0 -->\r\n      <g transform=\"translate(195.917188 239.238437)scale(0.1 -0.1)\">\r\n       <defs>\r\n        <path d=\"M 12.40625 8.296875 \r\nL 28.515625 8.296875 \r\nL 28.515625 63.921875 \r\nL 10.984375 60.40625 \r\nL 10.984375 69.390625 \r\nL 28.421875 72.90625 \r\nL 38.28125 72.90625 \r\nL 38.28125 8.296875 \r\nL 54.390625 8.296875 \r\nL 54.390625 0 \r\nL 12.40625 0 \r\nz\r\n\" id=\"DejaVuSans-49\"/>\r\n       </defs>\r\n       <use xlink:href=\"#DejaVuSans-49\"/>\r\n       <use x=\"63.623047\" xlink:href=\"#DejaVuSans-48\"/>\r\n       <use x=\"127.246094\" xlink:href=\"#DejaVuSans-46\"/>\r\n       <use x=\"159.033203\" xlink:href=\"#DejaVuSans-48\"/>\r\n      </g>\r\n     </g>\r\n    </g>\r\n    <g id=\"xtick_5\">\r\n     <g id=\"line2d_9\">\r\n      <path clip-path=\"url(#p0615f3682c)\" d=\"M 249.322727 224.64 \r\nL 249.322727 7.2 \r\n\" style=\"fill:none;stroke:#b0b0b0;stroke-linecap:square;stroke-width:0.8;\"/>\r\n     </g>\r\n     <g id=\"line2d_10\">\r\n      <g>\r\n       <use style=\"stroke:#000000;stroke-width:0.8;\" x=\"249.322727\" xlink:href=\"#m85fd70c595\" y=\"224.64\"/>\r\n      </g>\r\n     </g>\r\n     <g id=\"text_5\">\r\n      <!-- 12.5 -->\r\n      <g transform=\"translate(238.189915 239.238437)scale(0.1 -0.1)\">\r\n       <use xlink:href=\"#DejaVuSans-49\"/>\r\n       <use x=\"63.623047\" xlink:href=\"#DejaVuSans-50\"/>\r\n       <use x=\"127.246094\" xlink:href=\"#DejaVuSans-46\"/>\r\n       <use x=\"159.033203\" xlink:href=\"#DejaVuSans-53\"/>\r\n      </g>\r\n     </g>\r\n    </g>\r\n    <g id=\"xtick_6\">\r\n     <g id=\"line2d_11\">\r\n      <path clip-path=\"url(#p0615f3682c)\" d=\"M 291.595455 224.64 \r\nL 291.595455 7.2 \r\n\" style=\"fill:none;stroke:#b0b0b0;stroke-linecap:square;stroke-width:0.8;\"/>\r\n     </g>\r\n     <g id=\"line2d_12\">\r\n      <g>\r\n       <use style=\"stroke:#000000;stroke-width:0.8;\" x=\"291.595455\" xlink:href=\"#m85fd70c595\" y=\"224.64\"/>\r\n      </g>\r\n     </g>\r\n     <g id=\"text_6\">\r\n      <!-- 15.0 -->\r\n      <g transform=\"translate(280.462642 239.238437)scale(0.1 -0.1)\">\r\n       <use xlink:href=\"#DejaVuSans-49\"/>\r\n       <use x=\"63.623047\" xlink:href=\"#DejaVuSans-53\"/>\r\n       <use x=\"127.246094\" xlink:href=\"#DejaVuSans-46\"/>\r\n       <use x=\"159.033203\" xlink:href=\"#DejaVuSans-48\"/>\r\n      </g>\r\n     </g>\r\n    </g>\r\n    <g id=\"xtick_7\">\r\n     <g id=\"line2d_13\">\r\n      <path clip-path=\"url(#p0615f3682c)\" d=\"M 333.868182 224.64 \r\nL 333.868182 7.2 \r\n\" style=\"fill:none;stroke:#b0b0b0;stroke-linecap:square;stroke-width:0.8;\"/>\r\n     </g>\r\n     <g id=\"line2d_14\">\r\n      <g>\r\n       <use style=\"stroke:#000000;stroke-width:0.8;\" x=\"333.868182\" xlink:href=\"#m85fd70c595\" y=\"224.64\"/>\r\n      </g>\r\n     </g>\r\n     <g id=\"text_7\">\r\n      <!-- 17.5 -->\r\n      <g transform=\"translate(322.735369 239.238437)scale(0.1 -0.1)\">\r\n       <use xlink:href=\"#DejaVuSans-49\"/>\r\n       <use x=\"63.623047\" xlink:href=\"#DejaVuSans-55\"/>\r\n       <use x=\"127.246094\" xlink:href=\"#DejaVuSans-46\"/>\r\n       <use x=\"159.033203\" xlink:href=\"#DejaVuSans-53\"/>\r\n      </g>\r\n     </g>\r\n    </g>\r\n   </g>\r\n   <g id=\"matplotlib.axis_2\">\r\n    <g id=\"ytick_1\">\r\n     <g id=\"line2d_15\">\r\n      <path clip-path=\"url(#p0615f3682c)\" d=\"M 39.65 224.64 \r\nL 374.45 224.64 \r\n\" style=\"fill:none;stroke:#b0b0b0;stroke-linecap:square;stroke-width:0.8;\"/>\r\n     </g>\r\n     <g id=\"line2d_16\">\r\n      <defs>\r\n       <path d=\"M 0 0 \r\nL -3.5 0 \r\n\" id=\"mc6a2240fd0\" style=\"stroke:#000000;stroke-width:0.8;\"/>\r\n      </defs>\r\n      <g>\r\n       <use style=\"stroke:#000000;stroke-width:0.8;\" x=\"39.65\" xlink:href=\"#mc6a2240fd0\" y=\"224.64\"/>\r\n      </g>\r\n     </g>\r\n     <g id=\"text_8\">\r\n      <!-- 0 -->\r\n      <g transform=\"translate(26.2875 228.439219)scale(0.1 -0.1)\">\r\n       <use xlink:href=\"#DejaVuSans-48\"/>\r\n      </g>\r\n     </g>\r\n    </g>\r\n    <g id=\"ytick_2\">\r\n     <g id=\"line2d_17\">\r\n      <path clip-path=\"url(#p0615f3682c)\" d=\"M 39.65 196.072513 \r\nL 374.45 196.072513 \r\n\" style=\"fill:none;stroke:#b0b0b0;stroke-linecap:square;stroke-width:0.8;\"/>\r\n     </g>\r\n     <g id=\"line2d_18\">\r\n      <g>\r\n       <use style=\"stroke:#000000;stroke-width:0.8;\" x=\"39.65\" xlink:href=\"#mc6a2240fd0\" y=\"196.072513\"/>\r\n      </g>\r\n     </g>\r\n     <g id=\"text_9\">\r\n      <!-- 1000 -->\r\n      <g transform=\"translate(7.2 199.871732)scale(0.1 -0.1)\">\r\n       <use xlink:href=\"#DejaVuSans-49\"/>\r\n       <use x=\"63.623047\" xlink:href=\"#DejaVuSans-48\"/>\r\n       <use x=\"127.246094\" xlink:href=\"#DejaVuSans-48\"/>\r\n       <use x=\"190.869141\" xlink:href=\"#DejaVuSans-48\"/>\r\n      </g>\r\n     </g>\r\n    </g>\r\n    <g id=\"ytick_3\">\r\n     <g id=\"line2d_19\">\r\n      <path clip-path=\"url(#p0615f3682c)\" d=\"M 39.65 167.505026 \r\nL 374.45 167.505026 \r\n\" style=\"fill:none;stroke:#b0b0b0;stroke-linecap:square;stroke-width:0.8;\"/>\r\n     </g>\r\n     <g id=\"line2d_20\">\r\n      <g>\r\n       <use style=\"stroke:#000000;stroke-width:0.8;\" x=\"39.65\" xlink:href=\"#mc6a2240fd0\" y=\"167.505026\"/>\r\n      </g>\r\n     </g>\r\n     <g id=\"text_10\">\r\n      <!-- 2000 -->\r\n      <g transform=\"translate(7.2 171.304244)scale(0.1 -0.1)\">\r\n       <use xlink:href=\"#DejaVuSans-50\"/>\r\n       <use x=\"63.623047\" xlink:href=\"#DejaVuSans-48\"/>\r\n       <use x=\"127.246094\" xlink:href=\"#DejaVuSans-48\"/>\r\n       <use x=\"190.869141\" xlink:href=\"#DejaVuSans-48\"/>\r\n      </g>\r\n     </g>\r\n    </g>\r\n    <g id=\"ytick_4\">\r\n     <g id=\"line2d_21\">\r\n      <path clip-path=\"url(#p0615f3682c)\" d=\"M 39.65 138.937539 \r\nL 374.45 138.937539 \r\n\" style=\"fill:none;stroke:#b0b0b0;stroke-linecap:square;stroke-width:0.8;\"/>\r\n     </g>\r\n     <g id=\"line2d_22\">\r\n      <g>\r\n       <use style=\"stroke:#000000;stroke-width:0.8;\" x=\"39.65\" xlink:href=\"#mc6a2240fd0\" y=\"138.937539\"/>\r\n      </g>\r\n     </g>\r\n     <g id=\"text_11\">\r\n      <!-- 3000 -->\r\n      <g transform=\"translate(7.2 142.736757)scale(0.1 -0.1)\">\r\n       <defs>\r\n        <path d=\"M 40.578125 39.3125 \r\nQ 47.65625 37.796875 51.625 33 \r\nQ 55.609375 28.21875 55.609375 21.1875 \r\nQ 55.609375 10.40625 48.1875 4.484375 \r\nQ 40.765625 -1.421875 27.09375 -1.421875 \r\nQ 22.515625 -1.421875 17.65625 -0.515625 \r\nQ 12.796875 0.390625 7.625 2.203125 \r\nL 7.625 11.71875 \r\nQ 11.71875 9.328125 16.59375 8.109375 \r\nQ 21.484375 6.890625 26.8125 6.890625 \r\nQ 36.078125 6.890625 40.9375 10.546875 \r\nQ 45.796875 14.203125 45.796875 21.1875 \r\nQ 45.796875 27.640625 41.28125 31.265625 \r\nQ 36.765625 34.90625 28.71875 34.90625 \r\nL 20.21875 34.90625 \r\nL 20.21875 43.015625 \r\nL 29.109375 43.015625 \r\nQ 36.375 43.015625 40.234375 45.921875 \r\nQ 44.09375 48.828125 44.09375 54.296875 \r\nQ 44.09375 59.90625 40.109375 62.90625 \r\nQ 36.140625 65.921875 28.71875 65.921875 \r\nQ 24.65625 65.921875 20.015625 65.03125 \r\nQ 15.375 64.15625 9.8125 62.3125 \r\nL 9.8125 71.09375 \r\nQ 15.4375 72.65625 20.34375 73.4375 \r\nQ 25.25 74.21875 29.59375 74.21875 \r\nQ 40.828125 74.21875 47.359375 69.109375 \r\nQ 53.90625 64.015625 53.90625 55.328125 \r\nQ 53.90625 49.265625 50.4375 45.09375 \r\nQ 46.96875 40.921875 40.578125 39.3125 \r\nz\r\n\" id=\"DejaVuSans-51\"/>\r\n       </defs>\r\n       <use xlink:href=\"#DejaVuSans-51\"/>\r\n       <use x=\"63.623047\" xlink:href=\"#DejaVuSans-48\"/>\r\n       <use x=\"127.246094\" xlink:href=\"#DejaVuSans-48\"/>\r\n       <use x=\"190.869141\" xlink:href=\"#DejaVuSans-48\"/>\r\n      </g>\r\n     </g>\r\n    </g>\r\n    <g id=\"ytick_5\">\r\n     <g id=\"line2d_23\">\r\n      <path clip-path=\"url(#p0615f3682c)\" d=\"M 39.65 110.370051 \r\nL 374.45 110.370051 \r\n\" style=\"fill:none;stroke:#b0b0b0;stroke-linecap:square;stroke-width:0.8;\"/>\r\n     </g>\r\n     <g id=\"line2d_24\">\r\n      <g>\r\n       <use style=\"stroke:#000000;stroke-width:0.8;\" x=\"39.65\" xlink:href=\"#mc6a2240fd0\" y=\"110.370051\"/>\r\n      </g>\r\n     </g>\r\n     <g id=\"text_12\">\r\n      <!-- 4000 -->\r\n      <g transform=\"translate(7.2 114.16927)scale(0.1 -0.1)\">\r\n       <defs>\r\n        <path d=\"M 37.796875 64.3125 \r\nL 12.890625 25.390625 \r\nL 37.796875 25.390625 \r\nz\r\nM 35.203125 72.90625 \r\nL 47.609375 72.90625 \r\nL 47.609375 25.390625 \r\nL 58.015625 25.390625 \r\nL 58.015625 17.1875 \r\nL 47.609375 17.1875 \r\nL 47.609375 0 \r\nL 37.796875 0 \r\nL 37.796875 17.1875 \r\nL 4.890625 17.1875 \r\nL 4.890625 26.703125 \r\nz\r\n\" id=\"DejaVuSans-52\"/>\r\n       </defs>\r\n       <use xlink:href=\"#DejaVuSans-52\"/>\r\n       <use x=\"63.623047\" xlink:href=\"#DejaVuSans-48\"/>\r\n       <use x=\"127.246094\" xlink:href=\"#DejaVuSans-48\"/>\r\n       <use x=\"190.869141\" xlink:href=\"#DejaVuSans-48\"/>\r\n      </g>\r\n     </g>\r\n    </g>\r\n    <g id=\"ytick_6\">\r\n     <g id=\"line2d_25\">\r\n      <path clip-path=\"url(#p0615f3682c)\" d=\"M 39.65 81.802564 \r\nL 374.45 81.802564 \r\n\" style=\"fill:none;stroke:#b0b0b0;stroke-linecap:square;stroke-width:0.8;\"/>\r\n     </g>\r\n     <g id=\"line2d_26\">\r\n      <g>\r\n       <use style=\"stroke:#000000;stroke-width:0.8;\" x=\"39.65\" xlink:href=\"#mc6a2240fd0\" y=\"81.802564\"/>\r\n      </g>\r\n     </g>\r\n     <g id=\"text_13\">\r\n      <!-- 5000 -->\r\n      <g transform=\"translate(7.2 85.601783)scale(0.1 -0.1)\">\r\n       <use xlink:href=\"#DejaVuSans-53\"/>\r\n       <use x=\"63.623047\" xlink:href=\"#DejaVuSans-48\"/>\r\n       <use x=\"127.246094\" xlink:href=\"#DejaVuSans-48\"/>\r\n       <use x=\"190.869141\" xlink:href=\"#DejaVuSans-48\"/>\r\n      </g>\r\n     </g>\r\n    </g>\r\n    <g id=\"ytick_7\">\r\n     <g id=\"line2d_27\">\r\n      <path clip-path=\"url(#p0615f3682c)\" d=\"M 39.65 53.235077 \r\nL 374.45 53.235077 \r\n\" style=\"fill:none;stroke:#b0b0b0;stroke-linecap:square;stroke-width:0.8;\"/>\r\n     </g>\r\n     <g id=\"line2d_28\">\r\n      <g>\r\n       <use style=\"stroke:#000000;stroke-width:0.8;\" x=\"39.65\" xlink:href=\"#mc6a2240fd0\" y=\"53.235077\"/>\r\n      </g>\r\n     </g>\r\n     <g id=\"text_14\">\r\n      <!-- 6000 -->\r\n      <g transform=\"translate(7.2 57.034296)scale(0.1 -0.1)\">\r\n       <defs>\r\n        <path d=\"M 33.015625 40.375 \r\nQ 26.375 40.375 22.484375 35.828125 \r\nQ 18.609375 31.296875 18.609375 23.390625 \r\nQ 18.609375 15.53125 22.484375 10.953125 \r\nQ 26.375 6.390625 33.015625 6.390625 \r\nQ 39.65625 6.390625 43.53125 10.953125 \r\nQ 47.40625 15.53125 47.40625 23.390625 \r\nQ 47.40625 31.296875 43.53125 35.828125 \r\nQ 39.65625 40.375 33.015625 40.375 \r\nz\r\nM 52.59375 71.296875 \r\nL 52.59375 62.3125 \r\nQ 48.875 64.0625 45.09375 64.984375 \r\nQ 41.3125 65.921875 37.59375 65.921875 \r\nQ 27.828125 65.921875 22.671875 59.328125 \r\nQ 17.53125 52.734375 16.796875 39.40625 \r\nQ 19.671875 43.65625 24.015625 45.921875 \r\nQ 28.375 48.1875 33.59375 48.1875 \r\nQ 44.578125 48.1875 50.953125 41.515625 \r\nQ 57.328125 34.859375 57.328125 23.390625 \r\nQ 57.328125 12.15625 50.6875 5.359375 \r\nQ 44.046875 -1.421875 33.015625 -1.421875 \r\nQ 20.359375 -1.421875 13.671875 8.265625 \r\nQ 6.984375 17.96875 6.984375 36.375 \r\nQ 6.984375 53.65625 15.1875 63.9375 \r\nQ 23.390625 74.21875 37.203125 74.21875 \r\nQ 40.921875 74.21875 44.703125 73.484375 \r\nQ 48.484375 72.75 52.59375 71.296875 \r\nz\r\n\" id=\"DejaVuSans-54\"/>\r\n       </defs>\r\n       <use xlink:href=\"#DejaVuSans-54\"/>\r\n       <use x=\"63.623047\" xlink:href=\"#DejaVuSans-48\"/>\r\n       <use x=\"127.246094\" xlink:href=\"#DejaVuSans-48\"/>\r\n       <use x=\"190.869141\" xlink:href=\"#DejaVuSans-48\"/>\r\n      </g>\r\n     </g>\r\n    </g>\r\n    <g id=\"ytick_8\">\r\n     <g id=\"line2d_29\">\r\n      <path clip-path=\"url(#p0615f3682c)\" d=\"M 39.65 24.66759 \r\nL 374.45 24.66759 \r\n\" style=\"fill:none;stroke:#b0b0b0;stroke-linecap:square;stroke-width:0.8;\"/>\r\n     </g>\r\n     <g id=\"line2d_30\">\r\n      <g>\r\n       <use style=\"stroke:#000000;stroke-width:0.8;\" x=\"39.65\" xlink:href=\"#mc6a2240fd0\" y=\"24.66759\"/>\r\n      </g>\r\n     </g>\r\n     <g id=\"text_15\">\r\n      <!-- 7000 -->\r\n      <g transform=\"translate(7.2 28.466809)scale(0.1 -0.1)\">\r\n       <use xlink:href=\"#DejaVuSans-55\"/>\r\n       <use x=\"63.623047\" xlink:href=\"#DejaVuSans-48\"/>\r\n       <use x=\"127.246094\" xlink:href=\"#DejaVuSans-48\"/>\r\n       <use x=\"190.869141\" xlink:href=\"#DejaVuSans-48\"/>\r\n      </g>\r\n     </g>\r\n    </g>\r\n   </g>\r\n   <g id=\"patch_13\">\r\n    <path d=\"M 39.65 224.64 \r\nL 39.65 7.2 \r\n\" style=\"fill:none;stroke:#000000;stroke-linecap:square;stroke-linejoin:miter;stroke-width:0.8;\"/>\r\n   </g>\r\n   <g id=\"patch_14\">\r\n    <path d=\"M 374.45 224.64 \r\nL 374.45 7.2 \r\n\" style=\"fill:none;stroke:#000000;stroke-linecap:square;stroke-linejoin:miter;stroke-width:0.8;\"/>\r\n   </g>\r\n   <g id=\"patch_15\">\r\n    <path d=\"M 39.65 224.64 \r\nL 374.45 224.64 \r\n\" style=\"fill:none;stroke:#000000;stroke-linecap:square;stroke-linejoin:miter;stroke-width:0.8;\"/>\r\n   </g>\r\n   <g id=\"patch_16\">\r\n    <path d=\"M 39.65 7.2 \r\nL 374.45 7.2 \r\n\" style=\"fill:none;stroke:#000000;stroke-linecap:square;stroke-linejoin:miter;stroke-width:0.8;\"/>\r\n   </g>\r\n  </g>\r\n </g>\r\n <defs>\r\n  <clipPath id=\"p0615f3682c\">\r\n   <rect height=\"217.44\" width=\"334.8\" x=\"39.65\" y=\"7.2\"/>\r\n  </clipPath>\r\n </defs>\r\n</svg>\r\n",
      "image/png": "[encoded data removed]"
     },
     "metadata": {
      "needs_background": "light"
     }
    }
   ],
   "source": [
    "class GooglePlaySearch:\n",
    "\n",
    "    def saveUserSearch():\n",
    "        name=input(\"Enter your name: \")             \n",
    "        surname=input(\"Enter your surname: \")       \n",
    "        global user\n",
    "        user = name+\"_\"+surname                     \n",
    "        userFile=user+\".txt\"                         \n",
    "        global now\n",
    "        now = datetime.now()\n",
    "        global newSearch\n",
    "        newSearch = now.strftime(\"%m/%d/%Y, %H:%M:%S\") \n",
    "\n",
    "        os.chdir(\"UsersSearch\")\n",
    "        h=open(userFile, 'a')\n",
    "        h.write(\"User search: \" + newSearch + \" \\n\")\n",
    "        h.close()\n",
    "        os.chdir(\"..\")\n",
    "        \n",
    "        appReader = pd.read_csv('googleplaystore.csv', sep=',', header=0)\n",
    "        appName=input(\"Enter the app name: \")\n",
    "        print (appReader[appReader[\"App\"]==appName])\n",
    "        print(\" \\n\")    \n",
    "        os.chdir(\"UsersSearch\")\n",
    "        h=open(userFile, 'a')\n",
    "        h.write(appName + \"\\n\")\n",
    "        h.close()\n",
    "        os.chdir(\"..\")\n",
    "\n",
    "    saveUserSearch()\n",
    "\n",
    "    def allUsers():\n",
    "        def newDic():\n",
    "            global aUsers\n",
    "            aUsers={}\n",
    "        # newDic()\n",
    "        aUsers[user] = newSearch\n",
    "\n",
    "        print(\"All users:\")\n",
    "        for k, w in aUsers.items():\n",
    "            print(k,w)\n",
    "\n",
    "        print(\"Total number of users: \" + str(len(aUsers)))     \n",
    "        \n",
    "    allUsers()\n",
    "\n",
    "    def createStatistics():\n",
    "        nameForStatistic=input(\"Enter a name for your statistics file: \")\n",
    "        statisticFile=nameForStatistic+\".csv\"\n",
    "        now = datetime.now()\n",
    "        newStatistic = now.strftime(\"%m/%d/%Y, %H:%M\")\n",
    "\n",
    "        appReader = pd.read_csv('googleplaystore.csv', sep=',', header=0)                         \n",
    "        os.chdir(\"Statistics\")\n",
    "        h=open(statisticFile, 'w')\n",
    "        h.write(\"Statistics compiled: \" + newStatistic + \" \\n\")\n",
    "\n",
    "        typeOfStatistic = input(\"What type of statistics you want to create? general or detailed \")\n",
    "        if typeOfStatistic == \"general\":\n",
    "            h.write(\"Tested applications: \" + str(appReader[\"App\"].count()) + \" \\n\" + \" \\n\")   \n",
    "            h.write(\"Category: \" + str(appReader[\"Category\"].describe()) + \" \\n\" + \" \\n\")         \n",
    "            h.write(\"Rating: \" + str(round(appReader[\"Rating\"].describe(),2)) + \" \\n\" + \" \\n\")\n",
    "            h.write(\"Installs: \" + str(appReader[\"Installs\"].describe()) + \" \\n\" + \" \\n\")\n",
    "            h.write(\"Type: \" + str(appReader[\"Type\"].describe()) + \" \\n\" + \" \\n\")\n",
    "            h.write(\"Content Rating: \" + str(appReader[\"Content Rating\"].describe()) + \" \\n\" + \" \\n\")\n",
    "            h.write(\"Android Ver: \" + str(appReader[\"Android Ver\"].describe()) + \" \\n\" + \" \\n\")\n",
    "\n",
    "            print(\"Okay, your statistics are done!\")\n",
    "        \n",
    "        elif typeOfStatistic == \"detailed\":\n",
    "            statisticColumn=input(\"Available columns: App, Category, Rating, Reviews, Size, Installs, Type, Price,Content Rating, Genres, Last Updated, Current Ver, Android Ver. Say which column it should apply to: \")\n",
    "            if statisticColumn==\"Rating\":\n",
    "                print(\"And here is a chart for entire dataset of RATING \" \" \\n\" + str(appReader['Rating'].hist()) + \" \\n\")\n",
    "            elif statisticColumn==\"Installs\":\n",
    "                print(\"And here is a chart for entire dataset of INSTALLS \" \" \\n\" + str(appReader['Installs'].hist(figsize=(100,5))) + \" \\n\")\n",
    "            elif statisticColumn==\"Type\":\n",
    "                print(\"And here is a chart for entire dataset of TYPE \" \" \\n\" + str(appReader['Type'].hist()) + \" \\n\")\n",
    "            elif statisticColumn==\"Content Rating\":\n",
    "                print(\"And here is a chart for entire dataset of CONTENT RATING \" \" \\n\" + str(appReader['Content Rating'].hist()) + \" \\n\")\n",
    "            elif statisticColumn==\"Android Ver\":\n",
    "                print(\"And here is a chart for entire dataset of ANDROID VERSION \" \" \\n\" + str(appReader['Android Ver'].hist(figsize=(100,5))) + \" \\n\")\n",
    "            else:\n",
    "                print(\"\")\n",
    "            resultsNumber=input(\"How many results do you want to include in the statistics?\")\n",
    "            if resultsNumber.isnumeric()==False :\n",
    "                raise Exception (\"Please enter a number!\")\n",
    "            ascDesc=input(\"ascending or descending?\")\n",
    "            if ascDesc==\"ascending\":\n",
    "                h.write(\"Your statistic for: \" + statisticColumn + \"\\n\"+ str(appReader.sort_values(by=[statisticColumn]).head(int(resultsNumber))))\n",
    "                print(\"Okay, your ascending statistic is done!\"+ \"\\n\")\n",
    "            elif ascDesc==\"descending\":\n",
    "                h.write(\"Your statistic for: \" + statisticColumn + \"\\n\"+ str(appReader.sort_values(by=[statisticColumn]).tail(int(resultsNumber))))\n",
    "                print(\"Okay, your descending statistic is done!\"+ \"\\n\")\n",
    "            else:\n",
    "                print(\"You can only enter ascending or descending!\")\n",
    "            \n",
    "        else:\n",
    "            print(\"You can only enter general or detailed!\")\n",
    "        \n",
    "        h.close()\n",
    "        os.chdir(\"..\")\n",
    "\n",
    "    createStatistics()         "
   ]
  },
  {
   "cell_type": "code",
   "execution_count": 17,
   "metadata": {},
   "outputs": [
    {
     "output_type": "stream",
     "name": "stdout",
     "text": [
      "Okay, done!\n",
      "All apps reviewd by our users: \n",
      "Facebook\n",
      "Messenger\n",
      "MyApp\n",
      "Total number of reviewd apps: 3\n"
     ]
    }
   ],
   "source": [
    "class GooglePlayReviews:\n",
    "    def findReviews():\n",
    "        nameForReviews=input(\"Enter a name for your reviews file: \")\n",
    "        reviewsFile=nameForReviews+\".txt\"\n",
    "        now = datetime.now()\n",
    "        newReviews = now.strftime(\"%m/%d/%Y, %H:%M\")\n",
    "        \n",
    "        reviewsReader = pd.read_csv('googleplaystore_user_reviews.csv', sep=',', header=0)                         \n",
    "        os.chdir(\"Reviews\")\n",
    "        h=open(reviewsFile, 'w')\n",
    "        h.write(\"Reviews compiled: \" + newReviews + \" \\n\")\n",
    "        appName=input(\"Which application you want to see a review? \")\n",
    "\n",
    "        result=str(reviewsReader[reviewsReader[\"App\"]==appName]) \n",
    "        h.write(result)\n",
    "        h.close()\n",
    "        os.chdir(\"..\")\n",
    "\n",
    "        print(\"Okay, done!\")\n",
    "\n",
    "    findReviews()\n",
    "\n",
    "    def usersOpinion():\n",
    "\n",
    "        def opinionSet():\n",
    "            global oSet\n",
    "            oSet=set()\n",
    "        # opinionSet()\n",
    "\n",
    "        opinionForApp=input(\"Enter a name of app you want to review: \")\n",
    "        opinionAppFile=opinionForApp+\".csv\"\n",
    "        now = datetime.now()\n",
    "        newOpinion = now.strftime(\"%m/%d/%Y\")\n",
    "\n",
    "        os.chdir(\"Opinions\")\n",
    "        h=open(opinionAppFile, 'a')\n",
    "        userO=input(\"Enter a name or nick. \")\n",
    "        userOpinion=input(\"Enter your opinion\")\n",
    "        posNegOp=input(\"Is it 1. positive, 2. negative or 3. neutral? Please, select a number: \")\n",
    "        try:\n",
    "            if int(posNegOp)<=3:\n",
    "                h.write(userO + \", \" + newOpinion + \", \" + posNegOp + \", \" + userOpinion + \" \\n\")\n",
    "            else:\n",
    "                raise ValueError\n",
    "        except ValueError as y:\n",
    "            print (\"You can only enter 1, 2 or 3!\", y)\n",
    "        h.close()\n",
    "        os.chdir(\"..\")\n",
    "\n",
    "        oSet.add(opinionForApp)\n",
    "        print(\"All apps reviewd by our users: \")\n",
    "        sortedOSet=sorted(oSet)\n",
    "        for val in sortedOSet: \n",
    "            print(val) \n",
    "\n",
    "        print(\"Total number of reviewd apps: \" + str(len(oSet)))\n",
    "\n",
    "    usersOpinion()"
   ]
  },
  {
   "cell_type": "code",
   "execution_count": 14,
   "metadata": {},
   "outputs": [
    {
     "output_type": "stream",
     "name": "stdout",
     "text": [
      "c:\\Users\\justy\\Dropbox\\Python\n"
     ]
    }
   ],
   "source": [
    "print(os.getcwd())"
   ]
  },
  {
   "cell_type": "code",
   "execution_count": 81,
   "metadata": {},
   "outputs": [],
   "source": [
    "os.chdir(\"..\")"
   ]
  },
  {
   "cell_type": "code",
   "execution_count": 70,
   "metadata": {},
   "outputs": [],
   "source": [
    "os.chdir(\"Python\")"
   ]
  }
 ]
}